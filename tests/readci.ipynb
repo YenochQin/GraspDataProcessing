{
 "cells": [
  {
   "cell_type": "code",
   "execution_count": 17,
   "metadata": {},
   "outputs": [],
   "source": [
    "from pathlib import Path\n",
    "import rtoml\n",
    "config_path = Path(\"/Users/yiqin/Documents/PythonProjects/GraspDataProcessing-script/scripts/config.toml\")"
   ]
  },
  {
   "cell_type": "code",
   "execution_count": 18,
   "metadata": {},
   "outputs": [],
   "source": [
    "from types import SimpleNamespace\n",
    "from pathlib import Path\n",
    "from typing import Dict, Tuple, List, Optional, Union\n",
    "def load_config(\n",
    "                    config_path: Union[str, Path]\n",
    "                    ):\n",
    "    \"\"\"加载TOML配置文件并进行类型转换和数据处理\"\"\"\n",
    "    # 转换为Path对象\n",
    "    config_path = Path(config_path)\n",
    "    \n",
    "    # 使用 rtoml 读取TOML文件\n",
    "    config = rtoml.load(config_path)\n",
    "\n",
    "    \n",
    "    return SimpleNamespace(**config)"
   ]
  },
  {
   "cell_type": "code",
   "execution_count": 19,
   "metadata": {},
   "outputs": [],
   "source": [
    "test = load_config(config_path)"
   ]
  },
  {
   "cell_type": "code",
   "execution_count": 24,
   "metadata": {},
   "outputs": [
    {
     "data": {
      "text/plain": [
       "{'descriptors_with_subshell_info': True,\n",
       " 'high_prob_percentile': 95,\n",
       " 'overfitting_threshold': 0.1,\n",
       " 'underfitting_threshold': -0.05,\n",
       " 'include_wrong_level_negatives': True}"
      ]
     },
     "execution_count": 24,
     "metadata": {},
     "output_type": "execute_result"
    }
   ],
   "source": [
    "test.ml_config"
   ]
  },
  {
   "cell_type": "code",
   "execution_count": 7,
   "metadata": {},
   "outputs": [],
   "source": [
    "dddd = 3e-9"
   ]
  },
  {
   "cell_type": "code",
   "execution_count": 2,
   "metadata": {},
   "outputs": [],
   "source": [
    "number = 1e-9\n",
    "exponent = int(f\"{number:.0e}\".split('e')[-1])"
   ]
  },
  {
   "cell_type": "code",
   "execution_count": 3,
   "metadata": {},
   "outputs": [
    {
     "data": {
      "text/plain": [
       "-9"
      ]
     },
     "execution_count": 3,
     "metadata": {},
     "output_type": "execute_result"
    }
   ],
   "source": [
    "exponent"
   ]
  },
  {
   "cell_type": "code",
   "execution_count": 8,
   "metadata": {},
   "outputs": [
    {
     "data": {
      "text/plain": [
       "'3e-09'"
      ]
     },
     "execution_count": 8,
     "metadata": {},
     "output_type": "execute_result"
    }
   ],
   "source": [
    "f\"{dddd:.0e}\""
   ]
  },
  {
   "cell_type": "code",
   "execution_count": null,
   "metadata": {},
   "outputs": [],
   "source": []
  }
 ],
 "metadata": {
  "kernelspec": {
   "display_name": "grasp-env",
   "language": "python",
   "name": "python3"
  },
  "language_info": {
   "codemirror_mode": {
    "name": "ipython",
    "version": 3
   },
   "file_extension": ".py",
   "mimetype": "text/x-python",
   "name": "python",
   "nbconvert_exporter": "python",
   "pygments_lexer": "ipython3",
   "version": "3.13.5"
  }
 },
 "nbformat": 4,
 "nbformat_minor": 2
}
